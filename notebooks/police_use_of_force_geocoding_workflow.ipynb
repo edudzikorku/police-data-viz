{
  "cells": [
    {
      "cell_type": "markdown",
      "metadata": {
        "id": "view-in-github",
        "colab_type": "text"
      },
      "source": [
        "<a href=\"https://colab.research.google.com/github/edudzikorku/police-data-viz/blob/main/police_use_of_force_geocoding_workflow.ipynb\" target=\"_parent\"><img src=\"https://colab.research.google.com/assets/colab-badge.svg\" alt=\"Open In Colab\"/></a>"
      ]
    },
    {
      "cell_type": "markdown",
      "metadata": {
        "id": "tQGVc3nIHYNv"
      },
      "source": [
        "## Introduction\n",
        "\n",
        "Two distinct geocoding services, namely `Nominatim` and `MapBox`, were employed. Geocoding of addresses within the initial dataframe, comprising 10,579 rows and 36 columns, was executed using the `Nominatim` service. This process concluded within a time span of **3 hours, 10 minutes, and 27** seconds &#x1F631;"
      ]
    },
    {
      "cell_type": "code",
      "execution_count": null,
      "metadata": {
        "id": "9G8JcHaJ1wl-"
      },
      "outputs": [],
      "source": [
        "from google.colab import drive\n",
        "drive.mount(\"/content/drive\")"
      ]
    },
    {
      "cell_type": "code",
      "execution_count": null,
      "metadata": {
        "id": "wLGttV-52A3r"
      },
      "outputs": [],
      "source": [
        "%%capture\n",
        "!pip install fiona shapely pyproj rtree\n",
        "!pip install geopandas\n",
        "!pip install tqdm\n",
        "!pip install keplergl"
      ]
    },
    {
      "cell_type": "code",
      "execution_count": null,
      "metadata": {
        "id": "YPLYRpQz2BnJ"
      },
      "outputs": [],
      "source": [
        "# imports\n",
        "\n",
        "# data management\n",
        "import re\n",
        "import requests\n",
        "import pandas as pd\n",
        "from tqdm import tqdm\n",
        "import geopandas as gpd\n",
        "from geopy.geocoders import Nominatim\n",
        "from geopy.geocoders import MapBox as mb\n",
        "from geopy.extra.rate_limiter import RateLimiter as rtl\n",
        "\n",
        "# data visualization\n",
        "from keplergl import KeplerGl as kgl\n",
        "from google.colab import output\n",
        "output.enable_custom_widget_manager()\n",
        "\n",
        "# file download\n",
        "from google.colab import files"
      ]
    },
    {
      "cell_type": "code",
      "execution_count": null,
      "metadata": {
        "id": "4962b14mMMSl"
      },
      "outputs": [],
      "source": [
        "\n",
        "# define URL of the file\n",
        "url = \"https://data.cityofchicago.org/api/geospatial/5jrd-6zik?method=export&format=GeoJSON\"\n",
        "\n",
        "# submit HTTP GET request to the URL\n",
        "response = requests.get(url)\n",
        "\n",
        "# parse response content as JSON\n",
        "data = response.json()\n",
        "\n",
        "# create geodataframe from JSON data\n",
        "census_tracts = gpd.GeoDataFrame.from_features(data['features'], crs = 4326)"
      ]
    },
    {
      "cell_type": "code",
      "execution_count": null,
      "metadata": {
        "id": "W2sOS3dLOgt9"
      },
      "outputs": [],
      "source": [
        "census_tracts = census_tracts[['name10', 'commarea_n', 'namelsad10',\n",
        "       'commarea', 'geoid10', 'tractce10', 'countyfp10', 'statefp10', 'notes', 'geometry']]"
      ]
    },
    {
      "cell_type": "code",
      "execution_count": null,
      "metadata": {
        "id": "OYe_QgdwOaAI"
      },
      "outputs": [],
      "source": [
        "# create output folders\n",
        "!mkdir -p output/html\n",
        "!mkdir -p output/csv\n",
        "!mkdir -p output/shp\n",
        "!mkdir -p output/geojson"
      ]
    },
    {
      "cell_type": "code",
      "execution_count": null,
      "metadata": {
        "id": "2TCVdzoA2CVv"
      },
      "outputs": [],
      "source": [
        "dir = \"/content/drive/MyDrive/final/\"\n",
        "\n",
        "officer_profiles = pd.read_csv(dir + \"officer_profiles.csv\")\n",
        "trr = pd.read_csv(dir + \"tactical_response_reports.csv\")"
      ]
    },
    {
      "cell_type": "code",
      "execution_count": null,
      "metadata": {
        "id": "leSKKR17qlKc"
      },
      "outputs": [],
      "source": [
        "# replace 'XX' at the end of each value in 'block' column with '99'\n",
        "trr['block'] = trr['block'].str.replace(\"XX$\", '99', regex = True)\n",
        "\n",
        "# fill empty 'street_direction' rows with an empty string\n",
        "trr['street_direction'].fillna('', inplace = True)\n",
        "\n",
        "# create a new column, combining block number, street direction and name\n",
        "trr['address'] = trr['block'] + ' ' + trr['street_direction'] + ' ' + trr['street_name'] + ',' + 'Chicago, IL'"
      ]
    },
    {
      "cell_type": "code",
      "execution_count": null,
      "metadata": {
        "colab": {
          "base_uri": "https://localhost:8080/"
        },
        "id": "PzP3i-iBuEiA",
        "outputId": "2d085293-a88c-422d-a0eb-6154066b32bc"
      },
      "outputs": [
        {
          "name": "stderr",
          "output_type": "stream",
          "text": [
            "100%|██████████| 10579/10579 [3:10:27<00:00,  1.08s/it]\n"
          ]
        }
      ],
      "source": [
        "# track progress of geocoding\n",
        "tqdm.pandas()\n",
        "\n",
        "# set up geolocator\n",
        "geolocator = Nominatim(user_agent = 'edudzi', timeout = 10)\n",
        "\n",
        "# set up geocoder\n",
        "geocode = rtl(geolocator.geocode, min_delay_seconds = 1)\n",
        "\n",
        "# geocode addresses\n",
        "trr['loc'] = trr['address'].progress_apply(geocode)\n",
        "\n",
        "# extract longitude and longitude values from geocoding output\n",
        "trr['lon'] = trr['loc'].apply(lambda x: x.longitude if x else None)\n",
        "trr['lat'] = trr['loc'].apply(lambda y: y.latitude if y else None)"
      ]
    },
    {
      "cell_type": "code",
      "execution_count": null,
      "metadata": {
        "id": "fGCvNmnvh1V4"
      },
      "outputs": [],
      "source": [
        "\n",
        "# extract missed addresses from original dataframe\n",
        "missed_addresses = trr[trr['loc'].isna()]"
      ]
    },
    {
      "cell_type": "code",
      "execution_count": null,
      "metadata": {
        "id": "cVJzsTEKiGQL"
      },
      "outputs": [],
      "source": [
        "# use mapbox api to geocode missed addresses\n",
        "\n",
        "# set up api key\n",
        "api_key = \"pk.eyJ1IjoiZWR1ZHppIiwiYSI6ImNsbDRsZWp3ZDA3ZWIzZW1rdXFrbW5obmcifQ.B-oC1_9g6aKBQc6delbiiA\"\n",
        "\n",
        "# track progress of geocoding\n",
        "tqdm.pandas()\n",
        "\n",
        "# set up geolocator\n",
        "geolocator = mb(api_key = api_key, timeout = 10)\n",
        "\n",
        "# set up geocoder\n",
        "geocode = rtl(geolocator.geocode, min_delay_seconds = 1)\n",
        "\n",
        "# geocode missed addresses\n",
        "missed_addresses['loc'] = missed_addresses['address'].progress_apply(geocode)"
      ]
    },
    {
      "cell_type": "code",
      "execution_count": null,
      "metadata": {
        "id": "lDGM01nfoBSE"
      },
      "outputs": [],
      "source": [
        "# get rows that contain either Chicago or Illinois\n",
        "missed_addresses['textual_loc'] = missed_addresses['loc'].apply(lambda x: re.search(r'Chicago|Illinois', str(x), flags = re.I) is not None)\n",
        "\n",
        "# move these rows into a new dataframe\n",
        "filtered_addresses = missed_addresses[missed_addresses['textual_loc']]\n",
        "\n",
        "# drop off the unwanted column\n",
        "filtered_addresses = filtered_addresses.drop(columns = ['textual_loc'])"
      ]
    },
    {
      "cell_type": "code",
      "execution_count": null,
      "metadata": {
        "id": "8gsAVK2jtnsr"
      },
      "outputs": [],
      "source": [
        "# update the original dataframe\n",
        "trr.update(filtered_addresses)\n",
        "\n",
        "# extract long and latitude values from the updated dataframe\n",
        "\n",
        "trr['lon'] = trr['loc'].apply(lambda x: x.longitude if x else None)\n",
        "trr['lat'] = trr['loc'].apply(lambda y: y.latitude if y else None)"
      ]
    },
    {
      "cell_type": "code",
      "execution_count": null,
      "metadata": {
        "id": "X1cvL2Lx8Zjk"
      },
      "outputs": [],
      "source": [
        "\n",
        "# manually enter missed addresses\n",
        "\n",
        "trr.loc[42, ['lon', 'lat']] = (-87.7455555, 41.9591811)\n",
        "trr.loc[1122, ['lat', 'lon']] = (41.9111737,-87.6288557)\n",
        "trr.loc[2215, ['lat', 'lon']] = (41.9242993,-87.6746744)\n",
        "trr.loc[4430, ['lat', 'lon']] = (41.8961202,-87.6226977)\n",
        "trr.loc[4706, ['lat', 'lon']] = (41.9328091,-87.6408568)\n",
        "trr.loc[7818, ['lat', 'lon']] = (41.8068764,-87.5904713)\n",
        "trr.loc[8340, ['lat', 'lon']] = (41.9111736,-87.6308942)"
      ]
    },
    {
      "cell_type": "code",
      "execution_count": null,
      "metadata": {
        "id": "0A7CDcv8d9SG"
      },
      "outputs": [],
      "source": [
        "\n",
        "wrong_addresses_list = [13536, 13538, 18086, 48786, 93990, 51093,\n",
        "93989, 52286, 51093, 93993, 52285, 9666,\n",
        "12147, 93993, 89755, 56741, 59413, 70059, 67452,\n",
        "5436, 5744, 94006, 92306, 49626, 96194, 32853, 75463, 52284]\n",
        "wrong_addresses = trr[trr['trr_id'].isin(wrong_addresses_list) | (trr['lon'] <= -88)]"
      ]
    },
    {
      "cell_type": "code",
      "execution_count": null,
      "metadata": {
        "colab": {
          "background_save": true
        },
        "id": "nLgKTAaIfqRP"
      },
      "outputs": [],
      "source": [
        "\n",
        "# manually enter wrong addresses\n",
        "trr.loc[226, ['lat', 'lon']] = (41.901102,-87.632786)\n",
        "trr.loc[707, ['lat', 'lon']] = (41.9790949,-87.9086181)\n",
        "trr.loc[1117, ['lat', 'lon']] = (41.8770972,-87.6196328)\n",
        "trr.loc[2021, ['lat', 'lon']] = (41.7958495,-87.6341916)\n",
        "trr.loc[2108, ['lat', 'lon']] = (41.771447,-87.666484)\n",
        "trr.loc[3791, ['lat', 'lon']] = (41.8705074,-87.880885)\n",
        "trr.loc[3792, ['lat', 'lon']] = (41.975873,-87.877662)\n",
        "trr.loc[4437, ['lat', 'lon']] = (41.8021588,-87.6180554)\n",
        "trr.loc[4466, ['lat', 'lon']] = (41.9790949,-87.9086181)\n",
        "trr.loc[4467, ['lat', 'lon']] = (41.9790949,-87.9086181)\n",
        "trr.loc[4493, ['lat', 'lon']] = (41.8032843,-87.5883122)\n",
        "trr.loc[4581, ['lat', 'lon']] = (41.8130107,-87.6210351)\n",
        "trr.loc[4728, ['lat', 'lon']] = (41.8705074,-87.8808855)\n",
        "trr.loc[4841, ['lat', 'lon']] = (41.914057,-87.636782)\n",
        "trr.loc[4969, ['lat', 'lon']] = (41.9802452,-87.9115595)\n",
        "trr.loc[5016, ['lat', 'lon']] = (41.901604, -87.871881)\n",
        "trr.loc[5102, ['lat', 'lon']] = (41.900064,-87.618182)\n",
        "trr.loc[5742, ['lat', 'lon']] = (41.890743,-87.778450)\n",
        "trr.loc[5950, ['lat', 'lon']] = (41.906400,-87.899423)\n",
        "trr.loc[6314, ['lat', 'lon']] = (41.977579,-87.871156)\n",
        "trr.loc[6733, ['lat', 'lon']] = (41.890955,-87.615203)\n",
        "trr.loc[7683, ['lat', 'lon']] = (41.976101,-87.900891)\n",
        "trr.loc[8168, ['lat', 'lon']] = (41.901604,-87.871881)\n",
        "trr.loc[8401, ['lat', 'lon']] = (41.9802452,-87.9115595)\n",
        "trr.loc[8666, ['lat', 'lon']] = (41.890103,-87.632498)\n",
        "trr.loc[9181, ['lat', 'lon']] = (41.871481,-87.631633)\n",
        "trr.loc[10423, ['lat', 'lon']] = (41.695996,-87.845314)\n",
        "trr.loc[10472, ['lat', 'lon']] = (41.9130493,-87.6373731)\n",
        "trr.loc[10567, ['lat', 'lon']] = (41.9790949,-87.9086181)"
      ]
    },
    {
      "cell_type": "code",
      "execution_count": null,
      "metadata": {
        "id": "rSdWZCPvJH5M"
      },
      "outputs": [],
      "source": [
        "trr_sub = trr.drop(columns = ['loc'])"
      ]
    },
    {
      "cell_type": "code",
      "execution_count": null,
      "metadata": {
        "id": "67ItJqBUCeNk"
      },
      "outputs": [],
      "source": [
        "# create kepler map\n",
        "mp = kgl(height = 500, data = {'data': trr_sub}, name = 'Tactical Response Reports, Chicago')\n",
        "\n",
        "# add data to map\n",
        "# mp.add_data(trr_sub, name = 'Tactical Response Reports, Chicago')\n",
        "\n",
        "# display map\n",
        "mp"
      ]
    },
    {
      "cell_type": "code",
      "execution_count": null,
      "metadata": {
        "id": "vDnqi7gq92ig"
      },
      "outputs": [],
      "source": [
        "trr_gdf = gpd.GeoDataFrame(trr_sub,\n",
        "                           geometry = gpd.points_from_xy(trr_sub.lon, trr_sub.lat),\n",
        "                           crs = 4326)"
      ]
    },
    {
      "cell_type": "code",
      "execution_count": null,
      "metadata": {
        "id": "K7iy4_vTu2xP"
      },
      "outputs": [],
      "source": [
        "\n",
        "# save output\n",
        "trr.to_csv(\"/content/output/csv/trr_geocoded.csv\", index = None)\n",
        "trr_gdf.to_file(\"/content/output/geojson/trr_geocoded.geojson\", driver='GeoJSON')\n",
        "trr_gdf.to_file(\"/content/output/shp/trr_geocoded.shp\")\n",
        "\n",
        "# save map\n",
        "mp.save_to_html(data = {'data': trr_gdf},\n",
        "                         file_name = '/content/html/output/tactical_response_reports.html',\n",
        "                         config = mp.config)"
      ]
    },
    {
      "cell_type": "code",
      "execution_count": null,
      "metadata": {
        "id": "zz0NFCKc_6SJ"
      },
      "outputs": [],
      "source": [
        "!zip -r /content/output/trr.zip /content/output\n",
        "\n",
        "files.download(\"/content/output/trr.zip\")"
      ]
    }
  ],
  "metadata": {
    "colab": {
      "provenance": [],
      "authorship_tag": "ABX9TyOV2bmEUbahYc7m5jkCI5kQ",
      "include_colab_link": true
    },
    "kernelspec": {
      "display_name": "Python 3",
      "name": "python3"
    },
    "language_info": {
      "name": "python"
    }
  },
  "nbformat": 4,
  "nbformat_minor": 0
}